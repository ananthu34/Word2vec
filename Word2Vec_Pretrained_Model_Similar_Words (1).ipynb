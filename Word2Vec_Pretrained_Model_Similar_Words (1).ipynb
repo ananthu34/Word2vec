{
  "nbformat": 4,
  "nbformat_minor": 0,
  "metadata": {
    "colab": {
      "name": "Word2Vec_Pretrained_Model_Similar_Words.ipynb",
      "provenance": []
    },
    "kernelspec": {
      "name": "python3",
      "display_name": "Python 3"
    },
    "language_info": {
      "name": "python"
    },
    "accelerator": "TPU"
  },
  "cells": [
    {
      "cell_type": "code",
      "metadata": {
        "colab": {
          "base_uri": "https://localhost:8080/"
        },
        "id": "b_kxSjCE-3Pz",
        "outputId": "8c52cf17-3fb6-4829-c113-6d4f2c421079"
      },
      "source": [
        "from google.colab import drive\n",
        "drive.mount('/content/drive')"
      ],
      "execution_count": 1,
      "outputs": [
        {
          "output_type": "stream",
          "name": "stdout",
          "text": [
            "Mounted at /content/drive\n"
          ]
        }
      ]
    },
    {
      "cell_type": "code",
      "metadata": {
        "id": "L3wf2jLf_ILV"
      },
      "source": [
        "from gensim.models import Word2Vec, KeyedVectors"
      ],
      "execution_count": 2,
      "outputs": []
    },
    {
      "cell_type": "code",
      "metadata": {
        "id": "2SBTZK_X_LyJ"
      },
      "source": [
        "pretrained_model = KeyedVectors.load_word2vec_format('/content/drive/MyDrive/Colab Notebooks/Word2vec/GoogleNews-vectors-negative300.bin',binary = True)"
      ],
      "execution_count": 3,
      "outputs": []
    },
    {
      "cell_type": "code",
      "metadata": {
        "colab": {
          "base_uri": "https://localhost:8080/"
        },
        "id": "b2Ji5G0w_Q86",
        "outputId": "d4f671b2-3950-4298-f6a3-a951c8dc9203"
      },
      "source": [
        "pretrained_model.most_similar('data')"
      ],
      "execution_count": 6,
      "outputs": [
        {
          "output_type": "execute_result",
          "data": {
            "text/plain": [
              "[('Data', 0.7262316346168518),\n",
              " ('datasets', 0.603030264377594),\n",
              " ('dataset', 0.5796631574630737),\n",
              " ('databases', 0.5450120568275452),\n",
              " ('statistics', 0.537885844707489),\n",
              " ('information', 0.5368290543556213),\n",
              " ('database', 0.5325667262077332),\n",
              " ('Data_System_IPEDS', 0.5222618579864502),\n",
              " ('data.The', 0.5189104080200195),\n",
              " ('OpenSpirit_enabled', 0.517409086227417)]"
            ]
          },
          "metadata": {},
          "execution_count": 6
        }
      ]
    },
    {
      "cell_type": "code",
      "metadata": {
        "id": "XGlFR1W2Bbwn"
      },
      "source": [
        ""
      ],
      "execution_count": null,
      "outputs": []
    }
  ]
}